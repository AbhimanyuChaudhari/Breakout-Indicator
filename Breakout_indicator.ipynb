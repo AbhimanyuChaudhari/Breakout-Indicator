{
 "cells": [
  {
   "cell_type": "code",
   "execution_count": null,
   "id": "488618fd",
   "metadata": {},
   "outputs": [],
   "source": [
    "import pandas as pd\n",
    "import numpy as np\n",
    "import plotly.graph_objects as go\n",
    "from scipy import stats\n",
    "import yfinance as yf\n",
    "import datetime\n",
    "from scipy.stats import linregress\n",
    "from sklearn.preprocessing import PolynomialFeatures\n",
    "from sklearn.linear_model import Ridge\n",
    "from sklearn.pipeline import make_pipeline"
   ]
  },
  {
   "cell_type": "code",
   "execution_count": null,
   "id": "fdca5aab",
   "metadata": {},
   "outputs": [],
   "source": [
    "symbol = 'NVDA'\n",
    "start_date = datetime.datetime.now() - datetime.timedelta(days=7)\n",
    "end_date = datetime.datetime.now()\n",
    "data = yf.download(symbol, start=start_date, end=end_date, interval='1m')\n",
    "data.reset_index(inplace=True)\n",
    "data"
   ]
  },
  {
   "cell_type": "code",
   "execution_count": null,
   "id": "ac714155",
   "metadata": {},
   "outputs": [],
   "source": [
    "def isPivot(candle, window):\n",
    "    if candle - window < 0 or candle + window >= len(data):\n",
    "        return 0\n",
    "\n",
    "    pivotHigh = 1\n",
    "    pivotLow = 2\n",
    "\n",
    "    for i in range(candle - window, candle + window + 1):\n",
    "        if data.iloc[candle].Low > data.iloc[i].Low:\n",
    "            pivotLow = 0\n",
    "        if data.iloc[candle].High < data.iloc[i].High:\n",
    "            pivotHigh = 0\n",
    "\n",
    "    if pivotLow and pivotHigh:\n",
    "        return 3\n",
    "    elif pivotHigh:\n",
    "        return pivotHigh\n",
    "    elif pivotLow:\n",
    "        return pivotLow\n",
    "    else:\n",
    "        return 0"
   ]
  },
  {
   "cell_type": "code",
   "execution_count": null,
   "id": "6579cc1c",
   "metadata": {},
   "outputs": [],
   "source": [
    "window = 3\n",
    "data['ispivot'] = data.apply(lambda x: isPivot(x.name, window), axis = 1)"
   ]
  },
  {
   "cell_type": "code",
   "execution_count": null,
   "id": "860472d5",
   "metadata": {},
   "outputs": [],
   "source": [
    " def pointspos(x):\n",
    "        if x['ispivot'] == 2:\n",
    "            return x['Low']-1e-3\n",
    "        elif x['ispivot'] == 1:\n",
    "            return x['High']+1e-3\n",
    "        else:\n",
    "            return np.nan\n",
    "data['pointspos'] = data.apply(lambda row: pointspos(row), axis = 1)"
   ]
  },
  {
   "cell_type": "code",
   "execution_count": null,
   "id": "00449a0d",
   "metadata": {},
   "outputs": [],
   "source": [
    "dfpl = data[0:800]\n",
    "fig = go.Figure(data=[go.Candlestick(x = dfpl.index,\n",
    "                                    open = dfpl['Open'],\n",
    "                                    high = dfpl['High'],\n",
    "                                    low = dfpl['Low'],\n",
    "                                    close = dfpl['Close'])])\n",
    "fig.add_scatter(x=dfpl.index, y=dfpl['pointspos'], mode='markers',\n",
    "               marker=dict(size=7, color='MediumPurple'),\n",
    "               name='Pivot')"
   ]
  },
  {
   "cell_type": "code",
   "execution_count": null,
   "id": "09d8760d",
   "metadata": {},
   "outputs": [],
   "source": [
    "def collect_channel(candle, backcandles, window):\n",
    "    localdf = data[candle-backcandles-window:candle-window]\n",
    "    localdf['isPivot'] = localdf.apply(lambda x: isPivot(x.name,window), axis=1)\n",
    "    highs = localdf[localdf['isPivot']==1].High.values\n",
    "    idxhighs = localdf[localdf['isPivot']==1].High.index\n",
    "    lows = localdf[localdf['isPivot']==2].Low.values\n",
    "    idxlows = localdf[localdf['isPivot']==2].Low.index\n",
    "    \n",
    "    if len(lows)>=2 and len(highs)>=2:\n",
    "        sl_lows, interc_lows, r_value_l, _, _ = stats.linregress(idxlows,lows)\n",
    "        sl_highs, interc_highs, r_value_h, _, _ = stats.linregress(idxhighs,highs)\n",
    "    \n",
    "        return(sl_lows, interc_lows, sl_highs, interc_highs, r_value_l**2, r_value_h**2)\n",
    "    else:\n",
    "        return(0,0,0,0,0,0)"
   ]
  },
  {
   "cell_type": "code",
   "execution_count": null,
   "id": "3f5db926",
   "metadata": {},
   "outputs": [],
   "source": [
    "candle = 100\n",
    "backcandle = 50\n",
    "window = 3\n",
    "\n",
    "fig = go.Figure(data=[go.Candlestick(x=dfpl.index,\n",
    "                                    open=dfpl['Open'],\n",
    "                                    high = dfpl['High'],\n",
    "                                    low = dfpl['Low'],\n",
    "                                    close = dfpl['Close'])])\n",
    "fig.add_scatter(x=dfpl.index, y=dfpl['pointspos'], mode='markers',\n",
    "               marker=dict(size=5, color='MediumPurple'),\n",
    "               name='Pivot')\n",
    "            \n",
    "sl_lows, interc_lows, sl_highs, interc_highs, r_sq_l, r_sq_h = collect_channel(candle, backcandle, window)\n",
    "print(r_sq_l, r_sq_h)\n",
    "x = np.array(range(candle-backcandle-window, candle+1))\n",
    "fig.add_trace(go.Scatter(x=x, y=sl_lows*x+interc_lows, mode='lines', name='Lower Slope'))\n",
    "fig.add_trace(go.Scatter(x=x, y=sl_highs*x+interc_highs, mode='lines', name='Higher Slope'))\n",
    "fig.show()"
   ]
  },
  {
   "cell_type": "code",
   "execution_count": null,
   "id": "3339331a",
   "metadata": {},
   "outputs": [],
   "source": [
    "def isBreakout(candle, backcandle, window):\n",
    "    if (candle-backcandle-window)<0:\n",
    "        return 0\n",
    "    sl_lows, interc_lows, sl_highs, interc_highs, r_sq_l, r_sq_h = collect_channel(candle, backcandle, window)\n",
    "    prev_index = candle-1\n",
    "    prev_high = data.iloc[candle-1].High\n",
    "    prev_low = data.iloc[candle-1].Low\n",
    "    prev_close = data.iloc[candle-1].Close\n",
    "    \n",
    "    current_idx = candle\n",
    "    current_high = data.iloc[candle].High\n",
    "    current_low = data.iloc[candle].Low\n",
    "    current_close = data.iloc[candle].Close\n",
    "    current_open = data.iloc[candle].Open\n",
    "    \n",
    "    if (prev_high > (sl_lows*prev_index+interc_lows) and\n",
    "       prev_close < (sl_lows*prev_index+interc_lows) and\n",
    "       current_open < (sl_lows*current_idx+interc_lows) and\n",
    "       current_close < (sl_lows*prev_index+interc_lows)):\n",
    "        return 1\n",
    "    \n",
    "    elif (prev_low < (sl_highs*prev_index+interc_highs) and \n",
    "          prev_close > (sl_highs*prev_index+interc_highs) and\n",
    "          current_open > (sl_highs*current_idx+interc_highs) and\n",
    "          current_close > (sl_highs*prev_index+interc_highs)):\n",
    "        return 2\n",
    "    else:\n",
    "        return 0"
   ]
  },
  {
   "cell_type": "code",
   "execution_count": null,
   "id": "dc6a0297",
   "metadata": {},
   "outputs": [],
   "source": [
    "def breakpointpos(x):\n",
    "    if (x['isBreakout']==2):\n",
    "        return x['Low']-3e-3\n",
    "    elif (x['isBreakout']==1):\n",
    "        return x['High']+3e-3\n",
    "    else:\n",
    "        return np.nan\n",
    "candle = 75\n",
    "backcandle = 40\n",
    "window = 3\n",
    "dfpl = data[candle-backcandle-window-5:candle+20]\n",
    "dfpl['isBreakout'] = [isBreakout(candle, backcandle, window) for candle in dfpl.index]\n",
    "dfpl['breakpointpos'] = dfpl.apply(lambda row: breakpointpos(row), axis = 1)"
   ]
  },
  {
   "cell_type": "code",
   "execution_count": null,
   "id": "82087108",
   "metadata": {},
   "outputs": [],
   "source": [
    "candle = 60\n",
    "fig = go.Figure(data=[go.Candlestick(x=dfpl.index,\n",
    "                                    open=dfpl['Open'],\n",
    "                                    high=dfpl['High'],\n",
    "                                    low=dfpl['Low'],\n",
    "                                    close=dfpl['Close'])])\n",
    "fig.add_scatter(x=dfpl.index, y=dfpl['pointspos'], mode='markers',\n",
    "               marker=dict(size=5, color='MediumPurple'), \n",
    "               name='Pivot')\n",
    "fig.add_scatter(x=dfpl.index, y=dfpl['breakpointpos'], mode='markers', \n",
    "               marker=dict(size=8, color='Black'), marker_symbol='hexagram',\n",
    "               name='Pivot')\n",
    "sl_lows, interc_lows, sl_highs, interc_highs, r_sq_l, r_sq_h = collect_channel(candle, backcandle, window)\n",
    "print(r_sq_l, r_sq_h)\n",
    "x = np.array(range(candle-backcandle-window, candle+1))\n",
    "fig.add_trace(go.Scatter(x=x, y=sl_lows*x + interc_lows, mode='lines', name='Lower Slope'))\n",
    "fig.add_trace(go.Scatter(x=x, y=sl_highs*x + interc_highs, mode='lines', name='Higher Slope'))\n",
    "fig.show()"
   ]
  },
  {
   "cell_type": "code",
   "execution_count": null,
   "id": "93e8d53a",
   "metadata": {},
   "outputs": [],
   "source": [
    "data[\"isBreakOut\"] = [isBreakout(candle, backcandle, window) for candle in data.index]\n",
    "def SIGNAL():\n",
    "    return data.isBreakOut"
   ]
  },
  {
   "cell_type": "code",
   "execution_count": null,
   "id": "4c4af308",
   "metadata": {},
   "outputs": [],
   "source": [
    "from backtesting import Strategy\n",
    "from backtesting import Backtest\n",
    "import backtesting\n",
    "\n",
    "class BreakOut(Strategy):\n",
    "    initsize = 0.1\n",
    "    mysize = initsize\n",
    "    def init(self):\n",
    "        super().init()\n",
    "        self.signal1 = self.I(SIGNAL)\n",
    "\n",
    "    def next(self):\n",
    "        super().next()\n",
    "        TPSLRatio = 1.2\n",
    "\n",
    "        if self.signal1==2 and len(self.trades)==0:   \n",
    "            sl1 = self.data.Low[-2]\n",
    "            tp1 = self.data.Close[-1] + abs(self.data.Close[-1]-sl1)*TPSLRatio\n",
    "            tp2 = self.data.Close[-1] + abs(self.data.Close[-1]-sl1)*TPSLRatio/3\n",
    "            self.buy(sl=sl1, tp=tp1, size=self.mysize)\n",
    "            self.buy(sl=sl1, tp=tp2, size=self.mysize)\n",
    "        \n",
    "        elif self.signal1==1 and len(self.trades)==0:         \n",
    "            sl1 = self.data.High[-2]\n",
    "            tp1 = self.data.Close[-1] - abs(sl1-self.data.Close[-1])*TPSLRatio\n",
    "            tp2 = self.data.Close[-1] - abs(sl1-self.data.Close[-1])*TPSLRatio/3\n",
    "            self.sell(sl=sl1, tp=tp1, size=self.mysize)\n",
    "            self.sell(sl=sl1, tp=tp2, size=self.mysize)\n",
    "\n",
    "bt = Backtest(data, BreakOut, cash=1000, margin=1/50, commission=.000)\n",
    "stat = bt.run()\n",
    "stat"
   ]
  },
  {
   "cell_type": "code",
   "execution_count": null,
   "id": "ba695729",
   "metadata": {},
   "outputs": [],
   "source": [
    "bt.plot()"
   ]
  },
  {
   "cell_type": "code",
   "execution_count": null,
   "id": "c9e54b87",
   "metadata": {},
   "outputs": [],
   "source": [
    "df =data.reset_index()"
   ]
  }
 ],
 "metadata": {
  "kernelspec": {
   "display_name": "Python 3 (ipykernel)",
   "language": "python",
   "name": "python3"
  },
  "language_info": {
   "codemirror_mode": {
    "name": "ipython",
    "version": 3
   },
   "file_extension": ".py",
   "mimetype": "text/x-python",
   "name": "python",
   "nbconvert_exporter": "python",
   "pygments_lexer": "ipython3",
   "version": "3.9.13"
  }
 },
 "nbformat": 4,
 "nbformat_minor": 5
}
